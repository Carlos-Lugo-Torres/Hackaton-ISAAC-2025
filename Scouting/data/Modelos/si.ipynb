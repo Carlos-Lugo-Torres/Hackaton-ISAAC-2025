{
 "cells": [
  {
   "cell_type": "code",
   "execution_count": null,
   "id": "6a3e1d33",
   "metadata": {},
   "outputs": [],
   "source": [
    "import pandas as pd\n",
    "\n",
    "# Lee el archivo .parquet\n",
    "df = pd.read_parquet(\"players_index_20251023-145024.parquet\")\n",
    "\n",
    "# Muestra las primeras filas\n",
    "print(df.head())\n"
   ]
  }
 ],
 "metadata": {
  "kernelspec": {
   "display_name": ".venv",
   "language": "python",
   "name": "python3"
  },
  "language_info": {
   "name": "python",
   "version": "3.10.0"
  }
 },
 "nbformat": 4,
 "nbformat_minor": 5
}
